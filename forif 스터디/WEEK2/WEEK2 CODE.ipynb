{
 "cells": [
  {
   "cell_type": "markdown",
   "id": "3e484e57-6bf8-4e29-b266-20b536b3fc68",
   "metadata": {},
   "source": [
    "## **외모췍? 데이터췍! WEEK2 CODE**\n",
    "제작자 허가 없이 FORIF 외부에서 복제·활용할 수 없습니다."
   ]
  },
  {
   "cell_type": "markdown",
   "id": "c2631374-529b-4b73-8154-3559a0a029c6",
   "metadata": {},
   "source": [
    "### **변수와 자료형**"
   ]
  },
  {
   "cell_type": "code",
   "execution_count": null,
   "id": "c64a0190-e01e-4b9b-963c-b89fea0880d5",
   "metadata": {},
   "outputs": [],
   "source": [
    "# S02-01\n",
    "a = 1\n",
    "b = 1.5\n",
    "print(a, b)\n",
    "\n",
    "c = 'check'  # 문자열은 '~' 또는 \"~\"로 표현\n",
    "d = True  # 불린은 True 또는 False\n",
    "print(c, d)\n",
    "\n",
    "print(type(a), type(b))\n",
    "print(type(c), type(d))"
   ]
  },
  {
   "cell_type": "code",
   "execution_count": null,
   "id": "c9a2b84f-ab63-4dea-b90c-077fa200256c",
   "metadata": {},
   "outputs": [],
   "source": [
    "# S02-02\n",
    "a = 5.8\n",
    "print(int(a), str(a))\n",
    "\n",
    "a = bool(a)\n",
    "print(a)\n",
    "\n",
    "a = int(a)\n",
    "print(a)"
   ]
  },
  {
   "cell_type": "markdown",
   "id": "b6f2264a-e94c-4f9c-8bfd-3e1fb3a119ea",
   "metadata": {},
   "source": [
    "### **기본 연산**"
   ]
  },
  {
   "cell_type": "code",
   "execution_count": null,
   "id": "736e2979-dc6c-4e8f-9719-e7cfafa532d4",
   "metadata": {},
   "outputs": [],
   "source": [
    "# S02-03\n",
    "a = 5\n",
    "b = 3 - a * 2\n",
    "print(b)\n",
    "\n",
    "c = (a == b)\n",
    "d = (a >= b)\n",
    "print(c, d)\n",
    "\n",
    "print(c and d, c or d, not c)"
   ]
  },
  {
   "cell_type": "code",
   "execution_count": null,
   "id": "d9d0ed27-08f9-4b2d-a1b1-8f3faf7c1324",
   "metadata": {},
   "outputs": [],
   "source": [
    "# S02-04\n",
    "a = 5\n",
    "a += 1\n",
    "print(a)\n",
    "\n",
    "a *= 2\n",
    "print(a)\n",
    "\n",
    "a %= 5\n",
    "print(a)"
   ]
  },
  {
   "cell_type": "code",
   "execution_count": null,
   "id": "1f05f3d8-0fec-4f7a-93b1-4e56944db2d6",
   "metadata": {},
   "outputs": [],
   "source": [
    "# S02-05\n",
    "a = 'data'\n",
    "b = 'check'\n",
    "print(a + b)\n",
    "print(b * 3)\n",
    "\n",
    "c = '35'\n",
    "d = '35' + '3'\n",
    "print(c, d)"
   ]
  },
  {
   "cell_type": "code",
   "execution_count": null,
   "id": "4d114abd-7257-4938-b5f4-3477702e6929",
   "metadata": {},
   "outputs": [],
   "source": [
    "# EXERCISE 02-01\n",
    "a = 3\n",
    "b = 5\n",
    "a += b\n",
    "b *= a\n",
    "print(a, b)\n",
    "\n",
    "a %= b\n",
    "b **= 2\n",
    "print(a, b)"
   ]
  },
  {
   "cell_type": "code",
   "execution_count": null,
   "id": "5e3c4924-8409-4be6-990a-f1939ac05477",
   "metadata": {},
   "outputs": [],
   "source": [
    "# EXERCISE 02-02\n",
    "a = 3\n",
    "a = str(a)\n",
    "a += '2'\n",
    "print(a)\n",
    "\n",
    "a = float(a)\n",
    "print(a)"
   ]
  },
  {
   "cell_type": "markdown",
   "id": "bc41ea30-1d6f-4743-92c1-021e5c8a6ecd",
   "metadata": {},
   "source": [
    "### **리스트**"
   ]
  },
  {
   "cell_type": "code",
   "execution_count": null,
   "id": "2b2733ca-c3e7-48e4-b9e5-38316ca3336d",
   "metadata": {},
   "outputs": [],
   "source": [
    "# S02-06\n",
    "list1 = ['a', 'b', 'c', 1, 2]\n",
    "print(list1, list1[0], list1[3])\n",
    "print(list1[-1])  # 뒤에서 첫번째\n",
    "\n",
    "list1[0] = list1[4] + 3\n",
    "print(list1[0])"
   ]
  },
  {
   "cell_type": "code",
   "execution_count": null,
   "id": "bd937382-93f8-49f7-bdad-6a551361c48a",
   "metadata": {},
   "outputs": [],
   "source": [
    "# S02-07\n",
    "list1 = ['a', 'b', 'c', 1, 2]\n",
    "print(list1[1:4])  # 4는 미포함\n",
    "print(list1[:3])  # 인덱스 0~2\n",
    "print(list1[2:])  # 인덱스 2~4"
   ]
  },
  {
   "cell_type": "code",
   "execution_count": null,
   "id": "d0e58525-18ea-4515-bfe8-8b002748b53a",
   "metadata": {},
   "outputs": [],
   "source": [
    "# S02-08\n",
    "the_list = ['a', 1, 2]\n",
    "\n",
    "the_list.append(3)\n",
    "print(the_list, len(the_list))\n",
    "the_list.extend([10, 11])\n",
    "print(the_list)\n",
    "the_list.pop()\n",
    "print(the_list)\n",
    "the_list.remove(2)\n",
    "print(the_list)"
   ]
  },
  {
   "cell_type": "code",
   "execution_count": null,
   "id": "7ab4ba49-f5f9-4f85-8601-77c71a1414d1",
   "metadata": {},
   "outputs": [],
   "source": [
    "# S02-09\n",
    "the_list = [53, 24, 74, 16, 31]\n",
    "\n",
    "the_list.sort()\n",
    "print(the_list)\n",
    "\n",
    "the_list.reverse()\n",
    "print(the_list)\n",
    "\n",
    "sorted_list = sorted(the_list)\n",
    "print(the_list, sorted_list)"
   ]
  },
  {
   "cell_type": "code",
   "execution_count": null,
   "id": "62a2efc5-0c7a-4bc5-b9d5-49bdf24eb6a9",
   "metadata": {},
   "outputs": [],
   "source": [
    "# S02-10\n",
    "print(range(5))\n",
    "print(range(2, 10, 2))\n",
    "\n",
    "r3 = list(range(3))\n",
    "print(r3)\n",
    "print(2 in r3)\n",
    "print(3 in r3)"
   ]
  },
  {
   "cell_type": "code",
   "execution_count": null,
   "id": "97f2b5ee-27a5-4a3c-9973-e200f83db97d",
   "metadata": {},
   "outputs": [],
   "source": [
    "# S02-11\n",
    "num_data = [12, 34, 32, 5, 53]\n",
    "print(sum(num_data))\n",
    "print(max(num_data), min(num_data))\n",
    "\n",
    "# 평균\n",
    "mean = sum(num_data) / len(num_data)\n",
    "mean = round(mean, 2)\n",
    "print(mean)"
   ]
  },
  {
   "cell_type": "code",
   "execution_count": null,
   "id": "dcc0c5c2-907b-4505-803e-858e9f05d516",
   "metadata": {},
   "outputs": [],
   "source": [
    "# S02-12\n",
    "a = [1, 2, 3, 4, 5]  # a에 화살표 저장됨\n",
    "\n",
    "b = a  # a에 저장된 화살표가 b에 복사됨\n",
    "print(a, b)\n",
    "b[3] = 10\n",
    "print(a, b)\n",
    "a.append(0)\n",
    "print(a, b)\n",
    "c = a[:]  # 슬라이싱은 리스트를 새로 만듦\n",
    "c[0] = -1\n",
    "print(a, c)"
   ]
  },
  {
   "cell_type": "code",
   "execution_count": null,
   "id": "c994107e-b39f-4aac-acc7-2d14e2f46383",
   "metadata": {},
   "outputs": [],
   "source": [
    "# S02-13\n",
    "table = [[1, 2, 3], [6, 5, 4]]\n",
    "\n",
    "print(table[1][2], table[0][-1])\n",
    "print(table[1])\n",
    "print(len(table), len(table[0]))\n",
    "\n",
    "table[1].sort()\n",
    "print(table[1])"
   ]
  },
  {
   "cell_type": "code",
   "execution_count": null,
   "id": "4e022b51-99e3-4cf8-9acf-6bc645e3a77f",
   "metadata": {},
   "outputs": [],
   "source": [
    "# S02-14\n",
    "string = 'data check'\n",
    "print(string[2], string[:6])\n",
    "print()\n",
    "\n",
    "string = 'data\\ncheck' # \\n은 줄바꿈(엔터)\n",
    "print(string)\n",
    "print(string[3:6])"
   ]
  },
  {
   "cell_type": "code",
   "execution_count": null,
   "id": "c9b357d5-be1a-4ebc-a822-7326f5c9828a",
   "metadata": {},
   "outputs": [],
   "source": [
    "# S02-15\n",
    "score = {'Alice':95, 'Jackson':90, 'Kate':85}\n",
    "print(score['Jackson'])\n",
    "\n",
    "key = list(score.keys())\n",
    "value = list(score.values())\n",
    "print(key[2], value[0])"
   ]
  },
  {
   "cell_type": "code",
   "execution_count": null,
   "id": "7c210da2-7cc9-4074-89ed-15a10f4487ad",
   "metadata": {},
   "outputs": [],
   "source": [
    "# S02-16\n",
    "# \\는 코드 줄바꿈 표시\n",
    "student = {'name':['Alice', 'Jackson', 'Kate'], \\\n",
    "           'score':[95, 90, 85]}\n",
    "print(student['name'][2])\n",
    "print(sum(student['score']))"
   ]
  },
  {
   "cell_type": "code",
   "execution_count": null,
   "id": "20e16587-9082-44be-84ab-cefff6184bdd",
   "metadata": {},
   "outputs": [],
   "source": [
    "# EXERCISE 02-03\n",
    "contents = [1, 2, 3]\n",
    "print(contents[1], contents[-1])\n",
    "\n",
    "contents.append(5)\n",
    "contents.extend([4, 5])\n",
    "print(contents[3:])\n",
    "\n",
    "contents.pop()\n",
    "print(contents[-1])"
   ]
  },
  {
   "cell_type": "code",
   "execution_count": null,
   "id": "c48b75e8-d7c9-4376-a844-68756ee024bd",
   "metadata": {},
   "outputs": [],
   "source": [
    "# EXERCISE 02-04 답안예시\n",
    "odd_numbers = list(range(11, 100, 2))\n",
    "\n",
    "print(len(odd_numbers))\n",
    "\n",
    "mean = sum(odd_numbers) / len(odd_numbers)\n",
    "print(round(mean, 2))"
   ]
  },
  {
   "cell_type": "markdown",
   "id": "3f8a33c0-dcdc-4253-8650-69d6c11feabb",
   "metadata": {},
   "source": [
    "### **조건문, 반복문**"
   ]
  },
  {
   "cell_type": "code",
   "execution_count": null,
   "id": "80856eca-f212-417c-9d89-f2d2c5694d40",
   "metadata": {},
   "outputs": [],
   "source": [
    "# S02-17\n",
    "a = [1, 2, 3]\n",
    "if a[2] != 5:\n",
    "    print('first')\n",
    "else:\n",
    "    print('second')\n",
    "\n",
    "if 2 in a:\n",
    "    print('third')"
   ]
  },
  {
   "cell_type": "code",
   "execution_count": null,
   "id": "dfec16ca-bafd-4b57-9f2e-d2fc1336a91b",
   "metadata": {},
   "outputs": [],
   "source": [
    "# S02-18\n",
    "a = 52\n",
    "if a < 10 or a % 10 == 3:\n",
    "  print('first')\n",
    "elif str(a)[1] == 2:\n",
    "  print('second')\n",
    "else:\n",
    "  print('third')"
   ]
  },
  {
   "cell_type": "code",
   "execution_count": null,
   "id": "47b2462c-3715-4b01-b7c8-ccefa069455f",
   "metadata": {},
   "outputs": [],
   "source": [
    "# S02-19\n",
    "alphabet = ['j', 'd', 'o']\n",
    "for a in alphabet:\n",
    "  print(a, end = '')  # 줄바꿈 없도록 설정"
   ]
  },
  {
   "cell_type": "code",
   "execution_count": null,
   "id": "7e511af6-1f7c-4e28-83b0-76f4decfdd37",
   "metadata": {},
   "outputs": [],
   "source": [
    "# S02-20\n",
    "points = [2, 2, 2, 4, 4]\n",
    "for i in range(len(points)):\n",
    "  print(points[i], end = '')"
   ]
  },
  {
   "cell_type": "code",
   "execution_count": null,
   "id": "9cbfd244-5fb6-4bb5-912d-1655665785d3",
   "metadata": {},
   "outputs": [],
   "source": [
    "# S02-21 : 100 미만의 자연수의 합\n",
    "s = 0\n",
    "for n in range(1, 100):\n",
    "    s += n\n",
    "print(s)"
   ]
  },
  {
   "cell_type": "code",
   "execution_count": null,
   "id": "58249819-2974-4697-a420-f16532bea12e",
   "metadata": {},
   "outputs": [],
   "source": [
    "# S02-22 : 93의 약수의 개수\n",
    "count = 0\n",
    "for n in range(1, 94):\n",
    "    if 93 % n == 0:\n",
    "        count += 1\n",
    "print(count)"
   ]
  },
  {
   "cell_type": "code",
   "execution_count": null,
   "id": "d3a68632-bf0f-4a60-b2f2-90ce8bc0400e",
   "metadata": {},
   "outputs": [],
   "source": [
    "# S02-23\n",
    "points = [2, 2, 2, 4, 4]\n",
    "for i in range(len(points)):\n",
    "    if points[i] > 3:\n",
    "        break\n",
    "print(i)"
   ]
  },
  {
   "cell_type": "code",
   "execution_count": null,
   "id": "47d27eb5-1cdb-4888-a433-eced57e71927",
   "metadata": {},
   "outputs": [],
   "source": [
    "# S02-24\n",
    "divisor_20 = []\n",
    "for n in range(1, 20):\n",
    "  if 20 % n != 0:\n",
    "    continue\n",
    "  divisor_20.append(n)\n",
    "print(divisor_20[3])"
   ]
  },
  {
   "cell_type": "code",
   "execution_count": null,
   "id": "a0a6ab0d-a792-4880-ab55-804e522e63eb",
   "metadata": {},
   "outputs": [],
   "source": [
    "# EXERCISE 02-05 답안예시\n",
    "a = ['45', '-34.5', '24.3', '-4']\n",
    "for i in range(len(a)):\n",
    "    a[i] = float(a[i])\n",
    "    if a[i] < 0:\n",
    "        a[i] *= -1\n",
    "print(a)"
   ]
  },
  {
   "cell_type": "code",
   "execution_count": null,
   "id": "6d467121-78ec-4441-990f-7b05135cf8ac",
   "metadata": {},
   "outputs": [],
   "source": [
    "# EXERCISE 02-06 답안예시\n",
    "n1 = 288\n",
    "n2 = 432\n",
    "for i in range(n1, 0, -1):\n",
    "    if n1 % i == 0 and n2 % i == 0:\n",
    "        break\n",
    "print(i)"
   ]
  },
  {
   "cell_type": "markdown",
   "id": "193fa377-8886-4a05-b6fe-31844a32b1ec",
   "metadata": {},
   "source": [
    "### **함수**"
   ]
  },
  {
   "cell_type": "code",
   "execution_count": null,
   "id": "920fe72e-e7a3-443d-b0fa-cd1a2ce032e7",
   "metadata": {},
   "outputs": [],
   "source": [
    "# S02-25\n",
    "def big(x, y):\n",
    "  if x > y:\n",
    "    return x\n",
    "  else:\n",
    "    return y\n",
    "  \n",
    "n1 = 10\n",
    "n2 = 12\n",
    "print(big(n1, n2))"
   ]
  },
  {
   "cell_type": "code",
   "execution_count": null,
   "id": "5bd39f1e-7769-4a18-9d2c-e210a532621a",
   "metadata": {},
   "outputs": [],
   "source": [
    "# S02-26\n",
    "def zero(the_list):\n",
    "  the_list[-1] = 0  # 마지막 값 0으로 바꾸기\n",
    "\n",
    "vct1 = [5, 3, 4]\n",
    "vct2 = vct1[:]  # 리스트 복제\n",
    "\n",
    "zero(vct1)\n",
    "print(vct1)\n",
    "print(vct2)"
   ]
  },
  {
   "cell_type": "code",
   "execution_count": null,
   "id": "aae2b7cd-6707-402f-a132-f7648fa24f06",
   "metadata": {},
   "outputs": [],
   "source": [
    "# S02-27\n",
    "def fct(x):\n",
    "  a = x + 5\n",
    "  a += 5\n",
    "  return a\n",
    "\n",
    "no = 16\n",
    "no = fct(no)\n",
    "no += a\n",
    "print(no)"
   ]
  },
  {
   "cell_type": "code",
   "execution_count": null,
   "id": "97691794-cb2c-4cfd-939f-67652141c513",
   "metadata": {},
   "outputs": [],
   "source": [
    "# EXERCISE 02-07 답안예시\n",
    "def dif(num1, num2):\n",
    "    if num1 >= num2:\n",
    "        return num1 - num2\n",
    "    return num2 - num1\n",
    "\n",
    "print(dif(10, 15))"
   ]
  },
  {
   "cell_type": "code",
   "execution_count": null,
   "id": "13bafe09-ee64-44f6-89ec-a2896dc2679e",
   "metadata": {},
   "outputs": [],
   "source": [
    "# EXERCISE 02-08 답안예시\n",
    "def avg(the_list):\n",
    "    mean = sum(the_list) / len(the_list)\n",
    "    return round(mean, 2)\n",
    "\n",
    "li = [7, 10, 3, 13, 5, 17]\n",
    "print(avg(li))"
   ]
  },
  {
   "cell_type": "code",
   "execution_count": null,
   "id": "49c891ab-12bb-4194-9a5b-8ed95f87ddd6",
   "metadata": {},
   "outputs": [],
   "source": [
    "# S02-28\n",
    "import random\n",
    "# randint: 1~100 정수 중 랜덤\n",
    "print(random.randint(1, 100))"
   ]
  },
  {
   "cell_type": "code",
   "execution_count": null,
   "id": "f3c80297-30d4-41d0-92ba-24c42c6cf924",
   "metadata": {},
   "outputs": [],
   "source": [
    "# S02-29\n",
    "import random as rd\n",
    "print(rd.randint(1, 100))"
   ]
  },
  {
   "cell_type": "code",
   "execution_count": null,
   "id": "b2b3e415-57e6-44f5-be18-fd3ec7420603",
   "metadata": {},
   "outputs": [],
   "source": [
    "# S02-30\n",
    "from random import randint\n",
    "print(randint(1, 100))"
   ]
  },
  {
   "cell_type": "markdown",
   "id": "3aa23437-9dbb-4f22-9aee-1cb018f71eef",
   "metadata": {},
   "source": [
    "### **LEARN MORE : f-string**"
   ]
  },
  {
   "cell_type": "code",
   "execution_count": null,
   "id": "6886f8e0-fc3a-4c15-82b5-e8a61185d238",
   "metadata": {},
   "outputs": [],
   "source": [
    "# S02-31\n",
    "num1 = 10\n",
    "num2 = 2\n",
    "print(f'sum is {num1 + num2}')\n",
    "\n",
    "string = 'hello'\n",
    "print(f'the second character is {string[1]}')"
   ]
  },
  {
   "cell_type": "markdown",
   "id": "5ae04fb9-fb28-4867-9041-2e41eba26614",
   "metadata": {},
   "source": [
    "### **LEARN MORE : 컴프리헨션**"
   ]
  },
  {
   "cell_type": "code",
   "execution_count": null,
   "id": "0f5dd2bf-3a03-43a2-abd2-c42040e5c50c",
   "metadata": {},
   "outputs": [],
   "source": [
    "# S02-32\n",
    "fruit = ['apple', 'banana', 'cherry']\n",
    "\n",
    "length = [len(s) for s in fruit]\n",
    "print(length)"
   ]
  },
  {
   "cell_type": "code",
   "execution_count": null,
   "id": "0d4a4652-4cbe-4a29-830d-ae1ff9243434",
   "metadata": {},
   "outputs": [],
   "source": [
    "# S02-33\n",
    "fruit = ['apple', 'banana', 'cherry']\n",
    "\n",
    "length = ['5자 이하' if len(s) <= 5 else '5자 초과' for s in fruit]\n",
    "print(length)"
   ]
  },
  {
   "cell_type": "code",
   "execution_count": null,
   "id": "5f9baf2f-afe5-46db-942b-a95ae300b643",
   "metadata": {},
   "outputs": [],
   "source": [
    "# S02-34\n",
    "fruit = ['apple', 'banana', 'cherry']\n",
    "\n",
    "over5 = [s[:3] for s in fruit if len(s) > 5]\n",
    "print(over5)"
   ]
  },
  {
   "cell_type": "code",
   "execution_count": null,
   "id": "764662d7-4a3b-46f9-9f9d-68a71a1d1172",
   "metadata": {},
   "outputs": [],
   "source": [
    "# S02-35\n",
    "listA = [1, 2, 3]\n",
    "listB = [4, 5]\n",
    "listC = [first * second for first in listA for second in listB]\n",
    "print(listC)"
   ]
  },
  {
   "cell_type": "code",
   "execution_count": null,
   "id": "bb866b4e-3e84-4430-a4a7-cd33b3f94fbe",
   "metadata": {},
   "outputs": [],
   "source": [
    "# S02-36\n",
    "squared = {f'{n}의 제곱' : n ** 2 for n in range(5)}\n",
    "print(squared)"
   ]
  },
  {
   "cell_type": "markdown",
   "id": "c3803530-4caa-4f58-9eac-3486d3fbfdb6",
   "metadata": {},
   "source": [
    "### **LEARN MORE : 딕셔너리.items()**"
   ]
  },
  {
   "cell_type": "code",
   "execution_count": null,
   "id": "16e83561-c829-4121-bea4-c5e95797a2bc",
   "metadata": {},
   "outputs": [],
   "source": [
    "# S02-37\n",
    "score = {'Alice':95, 'Jackson':90, 'Kate':85}\n",
    "\n",
    "# 90점 이상인 학생의 이름을 passed로 넣기\n",
    "passed = []\n",
    "for key, value in score.items():\n",
    "  if value >= 90:\n",
    "    passed.append(key)\n",
    "print(passed)"
   ]
  },
  {
   "cell_type": "code",
   "execution_count": null,
   "id": "e15ea755-02ce-41c9-92ab-b016f70a17e0",
   "metadata": {},
   "outputs": [],
   "source": [
    "# S02-38\n",
    "score = {'Alice':95, 'Jackson':90, 'Kate':85}\n",
    "# 컴프리헨션으로 같은 결과 내기\n",
    "passed = [k for k, v in score.items() if v >= 90]\n",
    "print(passed)"
   ]
  },
  {
   "cell_type": "markdown",
   "id": "0f67472d-dc9f-4e67-8edf-05fdaedd9e66",
   "metadata": {},
   "source": [
    "### **LEARN MORE : enumerate**"
   ]
  },
  {
   "cell_type": "code",
   "execution_count": null,
   "id": "805912ff-a9f3-43c4-b662-d4084670d861",
   "metadata": {},
   "outputs": [],
   "source": [
    "# S02-39\n",
    "fruit = ['apple', 'banana', 'cherry']\n",
    "for i, v in enumerate(fruit):\n",
    "  print(f'{i}: {v}')"
   ]
  },
  {
   "cell_type": "markdown",
   "id": "740c34d6-220d-4403-9cd4-cca595dd10ee",
   "metadata": {},
   "source": [
    "### **LEARN MORE : map과 람다 함수**"
   ]
  },
  {
   "cell_type": "code",
   "execution_count": null,
   "id": "4c70fa03-687e-4798-927e-472c3a630f72",
   "metadata": {},
   "outputs": [],
   "source": [
    "# S02-40\n",
    "def to_positive(num):\n",
    "    # 수로 바꾸고 양수로 만들기\n",
    "    num = int(num)\n",
    "    # if-else를 줄여쓸 수 있어요!\n",
    "    return num if num >= 0 else num * -1\n",
    "\n",
    "number = ['11', '-12', '-13', '14']\n",
    "number1 = list(map(int, number))\n",
    "number2 = list(map(to_positive, number))\n",
    "print(number1, number2) "
   ]
  },
  {
   "cell_type": "code",
   "execution_count": null,
   "id": "4a1ddf83-9198-41ac-8464-7492499d0ebe",
   "metadata": {},
   "outputs": [],
   "source": [
    "# S02-41\n",
    "# int로 바꾸고 6으로 나눈 나머지\n",
    "num = (lambda x : int(x) % 6)('345')\n",
    "print(num)"
   ]
  },
  {
   "cell_type": "code",
   "execution_count": null,
   "id": "fc10d02f-10b2-4d95-b53c-71c6aabbec1d",
   "metadata": {},
   "outputs": [],
   "source": [
    "# S02-42 : map에 람다 함수 활용\n",
    "# 수로 바꾸고 6으로 나눈 나머지\n",
    "number = ['345', '842', '234', '539']\n",
    "number3 = list(map(lambda x : int(x) % 6, number))\n",
    "print(number3)"
   ]
  }
 ],
 "metadata": {
  "kernelspec": {
   "display_name": "Python 3 (ipykernel)",
   "language": "python",
   "name": "python3"
  },
  "language_info": {
   "codemirror_mode": {
    "name": "ipython",
    "version": 3
   },
   "file_extension": ".py",
   "mimetype": "text/x-python",
   "name": "python",
   "nbconvert_exporter": "python",
   "pygments_lexer": "ipython3",
   "version": "3.12.4"
  }
 },
 "nbformat": 4,
 "nbformat_minor": 5
}
