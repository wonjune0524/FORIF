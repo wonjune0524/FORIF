{
 "cells": [
  {
   "cell_type": "code",
   "execution_count": 2,
   "id": "9e5bc7c2-ed31-4e0e-a3a4-4344dd55f8d8",
   "metadata": {},
   "outputs": [
    {
     "name": "stdout",
     "output_type": "stream",
     "text": [
      "Requirement already satisfied: pandas in c:\\users\\gram\\miniconda3\\lib\\site-packages (2.2.3)\n",
      "Requirement already satisfied: numpy>=1.26.0 in c:\\users\\gram\\miniconda3\\lib\\site-packages (from pandas) (2.1.1)\n",
      "Requirement already satisfied: python-dateutil>=2.8.2 in c:\\users\\gram\\miniconda3\\lib\\site-packages (from pandas) (2.9.0.post0)\n",
      "Requirement already satisfied: pytz>=2020.1 in c:\\users\\gram\\miniconda3\\lib\\site-packages (from pandas) (2024.1)\n",
      "Requirement already satisfied: tzdata>=2022.7 in c:\\users\\gram\\miniconda3\\lib\\site-packages (from pandas) (2024.2)\n",
      "Requirement already satisfied: six>=1.5 in c:\\users\\gram\\miniconda3\\lib\\site-packages (from python-dateutil>=2.8.2->pandas) (1.16.0)\n"
     ]
    }
   ],
   "source": [
    "!pip install pandas"
   ]
  },
  {
   "cell_type": "code",
   "execution_count": 5,
   "id": "c4b4eca5-f51f-4cc4-a845-e93d45523cf3",
   "metadata": {},
   "outputs": [],
   "source": [
    "import pandas as pd"
   ]
  },
  {
   "cell_type": "code",
   "execution_count": 6,
   "id": "b269dd7b-4583-49ee-b147-e2f100598a2d",
   "metadata": {},
   "outputs": [
    {
     "name": "stdout",
     "output_type": "stream",
     "text": [
      "     name   class  math_sc\n",
      "0  winter  senior       90\n",
      "1     isa  senior       95\n",
      "2     liz  junior       85\n",
      "3    lily  senior       70\n",
      "4  daniel  junior       75\n"
     ]
    }
   ],
   "source": [
    "# S03-02\n",
    "# 데이터프레임 만들기\n",
    "s_data = {'name': ['winter', 'isa', 'liz',\n",
    "'lily', 'daniel' ],\n",
    "'class': ['senior', 'senior', 'junior',\n",
    "'senior', 'junior' ],\n",
    "'math_sc': [90, 95, 85, 70, 75] }\n",
    "stu = pd.DataFrame(data = s_data)\n",
    "print (stu)"
   ]
  },
  {
   "cell_type": "code",
   "execution_count": 9,
   "id": "20be6c9d-9282-4129-b8eb-bf8025a6f663",
   "metadata": {},
   "outputs": [
    {
     "name": "stdout",
     "output_type": "stream",
     "text": [
      "         menu        type  price\n",
      "0   Americano      coffee   2100\n",
      "1  Cafe Latte      coffee   2800\n",
      "2    Iced Tea  non coffee   2300\n",
      "3  Mint Latte  non coffee   3000\n"
     ]
    }
   ],
   "source": [
    "# Exercise 03-01\n",
    "s_cafe = {'menu' : ['Americano', 'Cafe Latte', 'Iced Tea', 'Mint Latte'],\n",
    "        'type' : ['coffee','coffee','non coffee', 'non coffee'],\n",
    "        'price' : [2100, 2800, 2300, 3000]}\n",
    "cafe = pd.DataFrame(data = s_cafe)\n",
    "print(cafe)"
   ]
  },
  {
   "cell_type": "code",
   "execution_count": 11,
   "id": "f9f64c26-e606-4f22-a35e-a6121b921763",
   "metadata": {},
   "outputs": [
    {
     "name": "stdout",
     "output_type": "stream",
     "text": [
      "senior\n",
      "\n",
      "     name   class  math_sc\n",
      "2     liz  junior       85\n",
      "3    lily  senior       70\n",
      "4  daniel  junior       75\n",
      "\n",
      "     name   class  math_sc\n",
      "0  winter  senior       90\n",
      "1     isa  senior       95\n",
      "2     liz  junior       85\n",
      "3    lily  senior      100\n",
      "4  daniel  junior       75\n"
     ]
    }
   ],
   "source": [
    "print(stu.iloc[0, 1])\n",
    "print()\n",
    "\n",
    "print(stu.iloc[2:])\n",
    "print()\n",
    "\n",
    "stu.iloc[3, 2] = 100\n",
    "print(stu)"
   ]
  },
  {
   "cell_type": "code",
   "execution_count": 12,
   "id": "a8dafd18-4292-4217-8a91-f36dc53ec352",
   "metadata": {},
   "outputs": [
    {
     "name": "stdout",
     "output_type": "stream",
     "text": [
      "winter\n",
      "\n",
      "name       liz\n",
      "math_sc     85\n",
      "Name: 2, dtype: object\n",
      "\n",
      "     name   class  math_sc\n",
      "0  winter  senior       90\n",
      "1     isa  senior       95\n",
      "2     liz  junior       85\n",
      "3    lily  senior       70\n",
      "4  daniel  junior       75\n"
     ]
    }
   ],
   "source": [
    "print(stu.loc[0, 'name'])\n",
    "print()\n",
    "\n",
    "print(stu.loc[2, ['name', 'math_sc']])\n",
    "print()\n",
    "\n",
    "stu.loc[3, 'math_sc'] = 70\n",
    "print(stu)"
   ]
  },
  {
   "cell_type": "code",
   "execution_count": 13,
   "id": "da4d860a-3bf2-4427-bf35-581d7c9756f5",
   "metadata": {},
   "outputs": [
    {
     "name": "stdout",
     "output_type": "stream",
     "text": [
      "     name   class  math_sc  eng_sc\n",
      "0  winter  senior       90      80\n",
      "1     isa  senior       95      90\n",
      "2     liz  junior       85      90\n",
      "3    lily  senior       70      95\n",
      "4  daniel  junior       75      80\n"
     ]
    }
   ],
   "source": [
    "stu['eng_sc'] = [80, 90, 90, 95, 80]\n",
    "print(stu)"
   ]
  },
  {
   "cell_type": "code",
   "execution_count": 18,
   "id": "a8551001-aeb7-4e6c-b3e6-b35553241909",
   "metadata": {},
   "outputs": [
    {
     "name": "stdout",
     "output_type": "stream",
     "text": [
      "         menu        type  price\n",
      "0   Americano      coffee   2100\n",
      "1  Cafe Latte      coffee   2800\n",
      "2    Iced Tea  non coffee   2300\n",
      "3  Mint Latte  non coffee   3000\n",
      "\n",
      "menu       Iced Tea\n",
      "type     non coffee\n",
      "price          2300\n",
      "Name: 2, dtype: object\n",
      "\n",
      "2800\n"
     ]
    }
   ],
   "source": [
    "# Exercise 03-03\n",
    "\n",
    "print(cafe.iloc[:])\n",
    "print()\n",
    "print(cafe.loc[2])\n",
    "print()\n",
    "print(cafe.loc[1, 'price'])"
   ]
  },
  {
   "cell_type": "code",
   "execution_count": 25,
   "id": "c353f6bc-0fa5-4ee7-a8a3-0f6acb93fe79",
   "metadata": {},
   "outputs": [
    {
     "name": "stdout",
     "output_type": "stream",
     "text": [
      "         menu        type  price\n",
      "0   Americano      coffee   2100\n",
      "1  Cafe Latte      coffee   2800\n",
      "2    Iced Tea  non coffee   2500\n",
      "3  Mint Latte  non coffee   3000\n"
     ]
    }
   ],
   "source": [
    "# Exercise 03-04\n",
    "\n",
    "price3 = cafe.loc[2, 'price']\n",
    "cafe.loc[2, 'price'] = price3 + 200\n",
    "print(cafe)"
   ]
  },
  {
   "cell_type": "code",
   "execution_count": 26,
   "id": "579bc47d-ae7b-4134-b889-8d85d9b623d2",
   "metadata": {},
   "outputs": [
    {
     "name": "stdout",
     "output_type": "stream",
     "text": [
      "0    45.0\n",
      "1    47.5\n",
      "2    42.5\n",
      "3    35.0\n",
      "4    37.5\n",
      "Name: math_sc, dtype: float64\n",
      "\n",
      "     name   class  math_sc  eng_sc  avg_sc\n",
      "0  winter  senior       90      80    85.0\n",
      "1     isa  senior       95      90    92.5\n",
      "2     liz  junior       85      90    87.5\n",
      "3    lily  senior       70      95    82.5\n",
      "4  daniel  junior       75      80    77.5\n"
     ]
    }
   ],
   "source": [
    "# S03-08\n",
    "# math_sc를 2로 나누기\n",
    "print (stu['math_sc'] / 2 )\n",
    "print ()\n",
    "# 수학 점수와 영어 점수의 평균 열 만들기\n",
    "stu['avg_sc' ] = (stu['math_sc' ] + stu['eng_sc' ] ) / 2\n",
    "# 수정 확인\n",
    "print (stu)"
   ]
  },
  {
   "cell_type": "code",
   "execution_count": 27,
   "id": "3a4b3d47-51c4-4e5f-bc28-b74a8d77801a",
   "metadata": {},
   "outputs": [
    {
     "name": "stdout",
     "output_type": "stream",
     "text": [
      "0     True\n",
      "1     True\n",
      "2     True\n",
      "3    False\n",
      "4    False\n",
      "Name: avg_sc, dtype: bool\n",
      "\n",
      "     name   class  math_sc  eng_sc  avg_sc  mt_ov_eg\n",
      "0  winter  senior       90      80    85.0      True\n",
      "1     isa  senior       95      90    92.5      True\n",
      "2     liz  junior       85      90    87.5     False\n",
      "3    lily  senior       70      95    82.5     False\n",
      "4  daniel  junior       75      80    77.5     False\n"
     ]
    }
   ],
   "source": [
    "# S03-09\n",
    "# avg_sc가 85 이상인지 여부\n",
    "print (stu['avg_sc'] >= 85 )\n",
    "print ()\n",
    "# 수학 점수가 영어 점수보다 높은지 여부를 담은\n",
    "# mt_ov_eg 열 만들기\n",
    "stu['mt_ov_eg'] = stu['math_sc' ] > stu['eng_sc' ]\n",
    "# 수정 확인\n",
    "print (stu)"
   ]
  },
  {
   "cell_type": "code",
   "execution_count": 28,
   "id": "3f9e4bd2-9ca8-4a03-8a4c-81233a3cf7a6",
   "metadata": {},
   "outputs": [
    {
     "data": {
      "text/plain": [
       "0    False\n",
       "1     True\n",
       "2     True\n",
       "3    False\n",
       "4    False\n",
       "dtype: bool"
      ]
     },
     "execution_count": 28,
     "metadata": {},
     "output_type": "execute_result"
    }
   ],
   "source": [
    "# S03-10\n",
    "# 수학과 영어 점수가 모두 85 이상인지 여부\n",
    "(stu['math_sc' ] >= 85) & (stu['eng_sc' ] >= 85) "
   ]
  },
  {
   "cell_type": "code",
   "execution_count": 29,
   "id": "b6228fed-778b-4e92-987f-052dd734ed0a",
   "metadata": {},
   "outputs": [
    {
     "data": {
      "text/html": [
       "<div>\n",
       "<style scoped>\n",
       "    .dataframe tbody tr th:only-of-type {\n",
       "        vertical-align: middle;\n",
       "    }\n",
       "\n",
       "    .dataframe tbody tr th {\n",
       "        vertical-align: top;\n",
       "    }\n",
       "\n",
       "    .dataframe thead th {\n",
       "        text-align: right;\n",
       "    }\n",
       "</style>\n",
       "<table border=\"1\" class=\"dataframe\">\n",
       "  <thead>\n",
       "    <tr style=\"text-align: right;\">\n",
       "      <th></th>\n",
       "      <th>name</th>\n",
       "      <th>class</th>\n",
       "      <th>math_sc</th>\n",
       "      <th>eng_sc</th>\n",
       "      <th>avg_sc</th>\n",
       "      <th>mt_ov_eg</th>\n",
       "    </tr>\n",
       "  </thead>\n",
       "  <tbody>\n",
       "    <tr>\n",
       "      <th>0</th>\n",
       "      <td>winter</td>\n",
       "      <td>senior</td>\n",
       "      <td>90</td>\n",
       "      <td>80</td>\n",
       "      <td>85.0</td>\n",
       "      <td>True</td>\n",
       "    </tr>\n",
       "    <tr>\n",
       "      <th>1</th>\n",
       "      <td>isa</td>\n",
       "      <td>senior</td>\n",
       "      <td>95</td>\n",
       "      <td>90</td>\n",
       "      <td>92.5</td>\n",
       "      <td>True</td>\n",
       "    </tr>\n",
       "    <tr>\n",
       "      <th>2</th>\n",
       "      <td>liz</td>\n",
       "      <td>junior</td>\n",
       "      <td>85</td>\n",
       "      <td>90</td>\n",
       "      <td>87.5</td>\n",
       "      <td>False</td>\n",
       "    </tr>\n",
       "  </tbody>\n",
       "</table>\n",
       "</div>"
      ],
      "text/plain": [
       "     name   class  math_sc  eng_sc  avg_sc  mt_ov_eg\n",
       "0  winter  senior       90      80    85.0      True\n",
       "1     isa  senior       95      90    92.5      True\n",
       "2     liz  junior       85      90    87.5     False"
      ]
     },
     "execution_count": 29,
     "metadata": {},
     "output_type": "execute_result"
    }
   ],
   "source": [
    "# S03-11\n",
    "# 점수 평균이 85 이상인 행만 선택\n",
    "stu[ stu['avg_sc'] >= 85 ]"
   ]
  },
  {
   "cell_type": "code",
   "execution_count": 30,
   "id": "bdbc7fc6-6e71-4706-8e4e-907981f83e67",
   "metadata": {},
   "outputs": [
    {
     "data": {
      "text/plain": [
       "3"
      ]
     },
     "execution_count": 30,
     "metadata": {},
     "output_type": "execute_result"
    }
   ],
   "source": [
    "# S03-12\n",
    "# 점수 평균이 85 이상인 학생 수 구하기\n",
    "stu[ stu['avg_sc'] >= 85 ].shape [0]"
   ]
  },
  {
   "cell_type": "code",
   "execution_count": 34,
   "id": "6065ac6a-d908-46c3-8d87-0162e25a58f6",
   "metadata": {},
   "outputs": [
    {
     "name": "stdout",
     "output_type": "stream",
     "text": [
      "         menu        type  price  volume\n",
      "0   Americano      coffee   2100     300\n",
      "1  Cafe Latte      coffee   2800     200\n",
      "2    Iced Tea  non coffee   2500     250\n",
      "3  Mint Latte  non coffee   3000     180\n",
      "         menu        type  price  volume  revenue\n",
      "0   Americano      coffee   2100     300   630000\n",
      "1  Cafe Latte      coffee   2800     200   560000\n",
      "2    Iced Tea  non coffee   2500     250   625000\n",
      "3  Mint Latte  non coffee   3000     180   540000\n"
     ]
    }
   ],
   "source": [
    "# Exercise 03-05\n",
    "cafe['volume'] = [300, 200, 250, 180]\n",
    "print(cafe)\n",
    "cafe['revenue'] = cafe['price'] * cafe['volume']\n",
    "print(cafe)"
   ]
  },
  {
   "cell_type": "code",
   "execution_count": 38,
   "id": "bb685e67-67ad-4bce-bba2-d85142dc230a",
   "metadata": {},
   "outputs": [
    {
     "name": "stdout",
     "output_type": "stream",
     "text": [
      "2355000\n",
      "2\n"
     ]
    }
   ],
   "source": [
    "# Exercise 03-06\n",
    "print(sum(cafe['revenue']))\n",
    "\n",
    "print(cafe[cafe['revenue'] >= 600000].shape[0])"
   ]
  },
  {
   "cell_type": "code",
   "execution_count": 2,
   "id": "c96a42c5-c20e-4d14-b6d0-f3fc9d9a4cf1",
   "metadata": {},
   "outputs": [
    {
     "data": {
      "text/html": [
       "<div>\n",
       "<style scoped>\n",
       "    .dataframe tbody tr th:only-of-type {\n",
       "        vertical-align: middle;\n",
       "    }\n",
       "\n",
       "    .dataframe tbody tr th {\n",
       "        vertical-align: top;\n",
       "    }\n",
       "\n",
       "    .dataframe thead th {\n",
       "        text-align: right;\n",
       "    }\n",
       "</style>\n",
       "<table border=\"1\" class=\"dataframe\">\n",
       "  <thead>\n",
       "    <tr style=\"text-align: right;\">\n",
       "      <th></th>\n",
       "      <th>날짜</th>\n",
       "      <th>영화관</th>\n",
       "      <th>스크린수</th>\n",
       "      <th>상영횟수</th>\n",
       "    </tr>\n",
       "  </thead>\n",
       "  <tbody>\n",
       "    <tr>\n",
       "      <th>0</th>\n",
       "      <td>2024-08-07</td>\n",
       "      <td>CGV</td>\n",
       "      <td>495</td>\n",
       "      <td>1135</td>\n",
       "    </tr>\n",
       "    <tr>\n",
       "      <th>1</th>\n",
       "      <td>2024-08-07</td>\n",
       "      <td>롯데시네마</td>\n",
       "      <td>318</td>\n",
       "      <td>899</td>\n",
       "    </tr>\n",
       "    <tr>\n",
       "      <th>2</th>\n",
       "      <td>2024-08-07</td>\n",
       "      <td>메가박스</td>\n",
       "      <td>182</td>\n",
       "      <td>517</td>\n",
       "    </tr>\n",
       "    <tr>\n",
       "      <th>3</th>\n",
       "      <td>2024-08-08</td>\n",
       "      <td>CGV</td>\n",
       "      <td>459</td>\n",
       "      <td>1130</td>\n",
       "    </tr>\n",
       "    <tr>\n",
       "      <th>4</th>\n",
       "      <td>2024-08-08</td>\n",
       "      <td>롯데시네마</td>\n",
       "      <td>318</td>\n",
       "      <td>863</td>\n",
       "    </tr>\n",
       "  </tbody>\n",
       "</table>\n",
       "</div>"
      ],
      "text/plain": [
       "           날짜    영화관  스크린수  상영횟수\n",
       "0  2024-08-07    CGV   495  1135\n",
       "1  2024-08-07  롯데시네마   318   899\n",
       "2  2024-08-07   메가박스   182   517\n",
       "3  2024-08-08    CGV   459  1130\n",
       "4  2024-08-08  롯데시네마   318   863"
      ]
     },
     "execution_count": 2,
     "metadata": {},
     "output_type": "execute_result"
    }
   ],
   "source": [
    "import pandas as pd\n",
    "# S03-13\n",
    "ping = pd.read_csv('사랑의하츄핑_영화관별.csv',encoding = 'utf-8')\n",
    "ping.head( ) # DF.head( )는 첫 5행"
   ]
  },
  {
   "cell_type": "code",
   "execution_count": 8,
   "id": "a19cc8aa-f45b-4a0c-9022-0cfa4668af75",
   "metadata": {},
   "outputs": [],
   "source": [
    "# S03-14\n",
    "# 첫 5행을 CSV 파일로 내보내기\n",
    "ping_f5 = ping.head( )\n",
    "# index = False를 해주어야 행이름 없이 저장돼요.\n",
    "ping_f5.to_csv('사랑의하츄핑_5행.csv', index = False, encoding = 'utf-8-sig' )"
   ]
  },
  {
   "cell_type": "code",
   "execution_count": 9,
   "id": "04a25ffb-81e7-4371-b526-41a5aed8d835",
   "metadata": {},
   "outputs": [
    {
     "name": "stdout",
     "output_type": "stream",
     "text": [
      "Requirement already satisfied: numpy in c:\\users\\gram\\miniconda3\\lib\\site-packages (2.1.1)\n"
     ]
    }
   ],
   "source": [
    "!pip install numpy"
   ]
  },
  {
   "cell_type": "code",
   "execution_count": 11,
   "id": "775b2c93-ae9d-49f5-a2aa-65eeb2c0925e",
   "metadata": {},
   "outputs": [
    {
     "data": {
      "text/html": [
       "<div>\n",
       "<style scoped>\n",
       "    .dataframe tbody tr th:only-of-type {\n",
       "        vertical-align: middle;\n",
       "    }\n",
       "\n",
       "    .dataframe tbody tr th {\n",
       "        vertical-align: top;\n",
       "    }\n",
       "\n",
       "    .dataframe thead th {\n",
       "        text-align: right;\n",
       "    }\n",
       "</style>\n",
       "<table border=\"1\" class=\"dataframe\">\n",
       "  <thead>\n",
       "    <tr style=\"text-align: right;\">\n",
       "      <th></th>\n",
       "      <th>날짜</th>\n",
       "      <th>영화관</th>\n",
       "      <th>스크린수</th>\n",
       "      <th>상영횟수</th>\n",
       "      <th>평균상영</th>\n",
       "      <th>수준</th>\n",
       "    </tr>\n",
       "  </thead>\n",
       "  <tbody>\n",
       "    <tr>\n",
       "      <th>0</th>\n",
       "      <td>2024-08-07</td>\n",
       "      <td>CGV</td>\n",
       "      <td>495</td>\n",
       "      <td>1135</td>\n",
       "      <td>2.292929</td>\n",
       "      <td>아쉽</td>\n",
       "    </tr>\n",
       "    <tr>\n",
       "      <th>1</th>\n",
       "      <td>2024-08-07</td>\n",
       "      <td>롯데시네마</td>\n",
       "      <td>318</td>\n",
       "      <td>899</td>\n",
       "      <td>2.827044</td>\n",
       "      <td>좋음</td>\n",
       "    </tr>\n",
       "    <tr>\n",
       "      <th>2</th>\n",
       "      <td>2024-08-07</td>\n",
       "      <td>메가박스</td>\n",
       "      <td>182</td>\n",
       "      <td>517</td>\n",
       "      <td>2.840659</td>\n",
       "      <td>좋음</td>\n",
       "    </tr>\n",
       "    <tr>\n",
       "      <th>3</th>\n",
       "      <td>2024-08-08</td>\n",
       "      <td>CGV</td>\n",
       "      <td>459</td>\n",
       "      <td>1130</td>\n",
       "      <td>2.461874</td>\n",
       "      <td>아쉽</td>\n",
       "    </tr>\n",
       "    <tr>\n",
       "      <th>4</th>\n",
       "      <td>2024-08-08</td>\n",
       "      <td>롯데시네마</td>\n",
       "      <td>318</td>\n",
       "      <td>863</td>\n",
       "      <td>2.713836</td>\n",
       "      <td>좋음</td>\n",
       "    </tr>\n",
       "  </tbody>\n",
       "</table>\n",
       "</div>"
      ],
      "text/plain": [
       "           날짜    영화관  스크린수  상영횟수      평균상영  수준\n",
       "0  2024-08-07    CGV   495  1135  2.292929  아쉽\n",
       "1  2024-08-07  롯데시네마   318   899  2.827044  좋음\n",
       "2  2024-08-07   메가박스   182   517  2.840659  좋음\n",
       "3  2024-08-08    CGV   459  1130  2.461874  아쉽\n",
       "4  2024-08-08  롯데시네마   318   863  2.713836  좋음"
      ]
     },
     "execution_count": 11,
     "metadata": {},
     "output_type": "execute_result"
    }
   ],
   "source": [
    "# S03-15\n",
    "# 스크린 당 상영횟수 구하기\n",
    "ping ['평균상영' ] = ping ['상영횟수' ] / ping ['스크린수' ]\n",
    "# numpy 불러오기\n",
    "import numpy as np\n",
    "# 평균상영이 3 이상인지 확인하는 열 만들기\n",
    "ping ['수준'] = np.where(ping['평균상영'] >= 2.5,\n",
    "'좋음', '아쉽')\n",
    "# 확인\n",
    "ping.head( )"
   ]
  }
 ],
 "metadata": {
  "kernelspec": {
   "display_name": "Python 3 (ipykernel)",
   "language": "python",
   "name": "python3"
  },
  "language_info": {
   "codemirror_mode": {
    "name": "ipython",
    "version": 3
   },
   "file_extension": ".py",
   "mimetype": "text/x-python",
   "name": "python",
   "nbconvert_exporter": "python",
   "pygments_lexer": "ipython3",
   "version": "3.12.4"
  }
 },
 "nbformat": 4,
 "nbformat_minor": 5
}
