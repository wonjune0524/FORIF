{
 "cells": [
  {
   "cell_type": "markdown",
   "id": "2e37d750-8e34-4ec0-89fb-40620c7f8554",
   "metadata": {},
   "source": [
    "### **Pandas**"
   ]
  },
  {
   "cell_type": "code",
   "execution_count": null,
   "id": "6e4d9641-43d5-4ac4-a398-f93c16d3c9e4",
   "metadata": {},
   "outputs": [],
   "source": [
    "# pandas 설치 (최초 1회만 하면 됨)\n",
    "!pip install pandas"
   ]
  },
  {
   "cell_type": "code",
   "execution_count": null,
   "id": "4923aa98-9ebd-4086-9bb2-39fd392a3315",
   "metadata": {},
   "outputs": [],
   "source": [
    "# S03-01\n",
    "import pandas as pd"
   ]
  },
  {
   "cell_type": "markdown",
   "id": "48cb71cb-bd84-40ce-ac4b-05d350014aca",
   "metadata": {},
   "source": [
    "### **데이터프레임**"
   ]
  },
  {
   "cell_type": "code",
   "execution_count": null,
   "id": "bb62b14a-5ad7-4554-abbf-565d58539cd1",
   "metadata": {},
   "outputs": [],
   "source": [
    "# S03-02\n",
    "# 데이터프레임 만들기\n",
    "s_data = {'name':['winter', 'isa', 'liz',\n",
    "                  'lily', 'daniel'],\n",
    "          'class':['senior', 'senior', 'junior',\n",
    "                   'senior', 'junior'],\n",
    "          'math_sc':[90, 95, 85, 70, 75]}\n",
    "stu = pd.DataFrame(data = s_data)\n",
    "print(stu)"
   ]
  },
  {
   "cell_type": "code",
   "execution_count": null,
   "id": "a57f131b-b7be-4e66-b655-b8ce46bdc088",
   "metadata": {},
   "outputs": [],
   "source": [
    "# S03-03\n",
    "# 행 이름\n",
    "print(stu.columns)\n",
    "\n",
    "# 열 이름\n",
    "print(stu.index)\n",
    "\n",
    "# 행/열 개수\n",
    "print(stu.shape)"
   ]
  },
  {
   "cell_type": "code",
   "execution_count": null,
   "id": "24dae543-7c6d-440b-8a1b-00de135a7886",
   "metadata": {},
   "outputs": [],
   "source": [
    "# EXERCISE 03-01 답안예시\n",
    "cafe = pd.DataFrame({\n",
    "    'menu':['Americano', 'Cafe Latte', 'Iced Tea', 'Mint Latte'],\n",
    "    'type':['coffee', 'coffee', 'non coffee', 'non coffee'],\n",
    "    'price':[2100, 2800, 2300, 3000]\n",
    "})"
   ]
  },
  {
   "cell_type": "code",
   "execution_count": null,
   "id": "2956a366-3f0b-424e-8a10-47df2764d6f5",
   "metadata": {},
   "outputs": [],
   "source": [
    "# EXERCISE 03-02 답안예시\n",
    "print(cafe.shape[0])\n",
    "print(cafe.columns[1])"
   ]
  },
  {
   "cell_type": "markdown",
   "id": "ddc39962-666e-4ef3-9967-f9df2c8328b4",
   "metadata": {},
   "source": [
    "### **행/열/셀 선택**"
   ]
  },
  {
   "cell_type": "code",
   "execution_count": null,
   "id": "1e7875bb-5b91-4073-bae9-807bdc75ef2c",
   "metadata": {},
   "outputs": [],
   "source": [
    "# S03-04\n",
    "# name 열 선택\n",
    "print(stu['name'])\n",
    "print()\n",
    "\n",
    "# math_sc 열 선택\n",
    "print(stu.math_sc)\n",
    "print()\n",
    "\n",
    "# name, math_sc 동시 선택\n",
    "print(stu[['name', 'math_sc']])"
   ]
  },
  {
   "cell_type": "code",
   "execution_count": null,
   "id": "d8e82e05-55ec-49c3-aa0f-e9be450950bb",
   "metadata": {},
   "outputs": [],
   "source": [
    "# S03-05\n",
    "# 첫번째 행 두번째 열 선택\n",
    "print(stu.iloc[0, 1])\n",
    "print()\n",
    "\n",
    "# 세번째 행부터 마지막 행까지 전체 출력\n",
    "print(stu.iloc[2:])\n",
    "print()\n",
    "\n",
    "# 네번째 행 세번째 열 수정\n",
    "stu.iloc[3, 2] = 100\n",
    "# 수정 확인\n",
    "print(stu)"
   ]
  },
  {
   "cell_type": "code",
   "execution_count": null,
   "id": "8128e06d-e18d-4215-8ab7-c1d7e1b25c87",
   "metadata": {},
   "outputs": [],
   "source": [
    "# S03-06\n",
    "# 행이름 0, 열이름 name 선택\n",
    "print(stu.loc[0, 'name'])\n",
    "print()\n",
    "\n",
    "# 행이름 2의 name 열과 math_sc 열 출력\n",
    "print(stu.loc[2, ['name', 'math_sc']])\n",
    "print()\n",
    "\n",
    "# 행이름 3의 math_sc 열 수정\n",
    "stu.loc[3, 'math_sc'] = 70\n",
    "# 수정 확인\n",
    "print(stu)"
   ]
  },
  {
   "cell_type": "code",
   "execution_count": null,
   "id": "8071603a-572b-4830-a3ee-ecf45fbe8471",
   "metadata": {},
   "outputs": [],
   "source": [
    "# S03-07\n",
    "# eng_sc 열 추가\n",
    "stu['eng_sc'] = [80, 90, 90, 95, 80]\n",
    "\n",
    "# 추가 확인\n",
    "print(stu)"
   ]
  },
  {
   "cell_type": "code",
   "execution_count": null,
   "id": "ed1861c1-162d-49fd-931b-846f359a046d",
   "metadata": {},
   "outputs": [],
   "source": [
    "# EXERCISE 03-03 답안예시\n",
    "print(cafe['menu'])\n",
    "print()\n",
    "print(cafe.iloc[2])\n",
    "print()\n",
    "print(cafe.loc[1, 'price'])"
   ]
  },
  {
   "cell_type": "code",
   "execution_count": null,
   "id": "16e00a27-2900-4ebd-a2d6-cc3a2029d8bc",
   "metadata": {},
   "outputs": [],
   "source": [
    "# EXERCISE 03-04 답안예시\n",
    "price3 = cafe.loc[2, 'price']\n",
    "price3 += 200\n",
    "cafe.loc[2, 'price'] = price3\n",
    "print(cafe)"
   ]
  },
  {
   "cell_type": "markdown",
   "id": "75519348-6c53-4e3d-91f2-aa79aee2e839",
   "metadata": {},
   "source": [
    "### **기초 연산**"
   ]
  },
  {
   "cell_type": "code",
   "execution_count": null,
   "id": "276048c1-b442-405c-a2a0-81fd6f4492ab",
   "metadata": {},
   "outputs": [],
   "source": [
    "# S03-08\n",
    "# math_sc를 2로 나누기\n",
    "print(stu['math_sc'] / 2)\n",
    "print()\n",
    "\n",
    "# 수학 점수와 영어 점수의 평균 열 만들기\n",
    "stu['avg_sc'] = (stu['math_sc'] + stu['eng_sc']) / 2\n",
    "\n",
    "# 수정 확인\n",
    "print(stu)"
   ]
  },
  {
   "cell_type": "code",
   "execution_count": null,
   "id": "f9e5482e-a22a-4d00-bf4c-7c10e375e51f",
   "metadata": {},
   "outputs": [],
   "source": [
    "# S03-09\n",
    "# avg_sc가 85 이상인지 여부\n",
    "print(stu['avg_sc'] >= 85)\n",
    "print()\n",
    "\n",
    "# 수학 점수가 영어 점수보다 높은지 여부를 담은\n",
    "# mt_ov_eg 열 만들기\n",
    "stu['mt_ov_eg'] = stu['math_sc'] > stu['eng_sc']\n",
    "\n",
    "# 수정 확인\n",
    "print(stu)"
   ]
  },
  {
   "cell_type": "code",
   "execution_count": null,
   "id": "3f24cda7-b256-41b6-9c1b-b1cc991df47d",
   "metadata": {},
   "outputs": [],
   "source": [
    "# S03-10\n",
    "# 수학과 영어 점수가 모두 85 이상인지 여부\n",
    "(stu['math_sc'] >= 85) & (stu['eng_sc'] >= 85) "
   ]
  },
  {
   "cell_type": "code",
   "execution_count": null,
   "id": "a7d49026-9a9a-4dc4-ad4d-5fa1730b2299",
   "metadata": {},
   "outputs": [],
   "source": [
    "# EXERCISE 03-05 답안예시\n",
    "cafe['volume'] = [300, 200, 250, 180]\n",
    "cafe['revenue'] = cafe['price'] * cafe['volume']\n",
    "print(cafe)"
   ]
  },
  {
   "cell_type": "code",
   "execution_count": null,
   "id": "ca4ce49a-79b6-42ec-9ac3-593b1accb212",
   "metadata": {},
   "outputs": [],
   "source": [
    "# EXERCISE 03-06 답안예시\n",
    "print(sum(cafe['revenue']))\n",
    "print()\n",
    "over600K = cafe[ cafe['revenue'] >= 600000 ]\n",
    "print(over600K)\n",
    "print()\n",
    "print(over600K.shape[0])"
   ]
  },
  {
   "cell_type": "markdown",
   "id": "efac4354-649f-407f-8a3d-0afc2131bcc0",
   "metadata": {},
   "source": [
    "### **조건 선택**"
   ]
  },
  {
   "cell_type": "code",
   "execution_count": null,
   "id": "51170d80-0047-41fc-968f-acc23b6c7466",
   "metadata": {},
   "outputs": [],
   "source": [
    "# S03-11\n",
    "# 점수 평균이 85 이상인 행만 선택\n",
    "stu[ stu['avg_sc'] >= 85 ]"
   ]
  },
  {
   "cell_type": "code",
   "execution_count": null,
   "id": "65de0868-0852-4889-a568-029c3ab8d03f",
   "metadata": {},
   "outputs": [],
   "source": [
    "# S03-12\n",
    "# 점수 평균이 85 이상인 학생 수 구하기\n",
    "stu[ stu['avg_sc'] >= 85 ].shape[0]"
   ]
  },
  {
   "cell_type": "markdown",
   "id": "b4e62638-eadb-4a53-b546-2bb675332d65",
   "metadata": {},
   "source": [
    "### **데이터 불러오기/내보내기**"
   ]
  },
  {
   "cell_type": "code",
   "execution_count": null,
   "id": "ccace37a-4b00-4d58-92b1-8e33688570f2",
   "metadata": {},
   "outputs": [],
   "source": [
    "# S03-13\n",
    "ping = pd.read_csv('사랑의하츄핑_영화관별.csv',\n",
    "                   encoding = 'utf-8')\n",
    "ping.head()  # DF.head()는 첫 5행"
   ]
  },
  {
   "cell_type": "code",
   "execution_count": null,
   "id": "599b385a-98a6-4bd8-ac9b-c10e5f0baa44",
   "metadata": {},
   "outputs": [],
   "source": [
    "# S03-14\n",
    "# 첫 5행을 CSV 파일로 내보내기\n",
    "ping_f5 = ping.head()\n",
    "\n",
    "# index = False를 해주어야 행이름 없이 저장돼요.\n",
    "ping_f5.to_csv('사랑의하츄핑_5행.csv',\n",
    "               index = False, encoding = 'utf-8-sig')"
   ]
  },
  {
   "cell_type": "markdown",
   "id": "d57f83c2-4f92-4af8-97d1-57355e531ee9",
   "metadata": {},
   "source": [
    "### **다양한 활용**"
   ]
  },
  {
   "cell_type": "code",
   "execution_count": null,
   "id": "dd5a6512-5484-479e-89dd-d95fea04d89d",
   "metadata": {},
   "outputs": [],
   "source": [
    "# numpy 설치 (최초 1회만 하면 됨)\n",
    "!pip install numpy"
   ]
  },
  {
   "cell_type": "code",
   "execution_count": null,
   "id": "324b0820-c82c-4e72-8695-0b699b723768",
   "metadata": {},
   "outputs": [],
   "source": [
    "# S03-15\n",
    "# 스크린 당 상영횟수 구하기\n",
    "ping['평균상영'] = ping['상영횟수'] / ping['스크린수']\n",
    "\n",
    "# numpy 불러오기\n",
    "import numpy as np\n",
    "\n",
    "# 평균상영이 3 이상인지 확인하는 열 만들기\n",
    "ping['수준'] = np.where(ping['평균상영'] >= 2.5, '좋음', '아쉽')\n",
    "\n",
    "# 확인\n",
    "ping.head()"
   ]
  },
  {
   "cell_type": "code",
   "execution_count": null,
   "id": "58d654c4-145c-42a1-9048-0f3c135b5e7f",
   "metadata": {},
   "outputs": [],
   "source": [
    "# S03-16\n",
    "# \"일자_영화관_수준\"을 담은 요약 열 만들기\n",
    "ping['요약'] = ''\n",
    "\n",
    "for idx, row in ping.iterrows():\n",
    "    string = ''\n",
    "    string += row['날짜'][-2:] + '_'\n",
    "    string += row['영화관'] + '_'\n",
    "    string += row['수준']\n",
    "    ping.loc[idx, '요약'] = string\n",
    "\n",
    "# 확인\n",
    "ping.head()"
   ]
  },
  {
   "cell_type": "markdown",
   "id": "11e38010-e536-4c63-8a6b-2594c3ac4309",
   "metadata": {},
   "source": [
    "### **MINI PROJECT**"
   ]
  },
  {
   "cell_type": "code",
   "execution_count": null,
   "id": "4889187c-e17a-437d-9c17-be37101772ae",
   "metadata": {},
   "outputs": [],
   "source": [
    "# 10/8 스터디 후 업데이트"
   ]
  },
  {
   "cell_type": "markdown",
   "id": "d151ce76-af54-48e2-8015-fd0a208445f3",
   "metadata": {},
   "source": [
    "### **LEARN MORE : 행 추가하기**"
   ]
  },
  {
   "cell_type": "code",
   "execution_count": null,
   "id": "f9aa6951-becd-42d3-9bd4-a9d529c5a7ec",
   "metadata": {},
   "outputs": [],
   "source": [
    "# S03-17\n",
    "# 새로운 행을 담은 별도의 데이터프레임\n",
    "new_row = pd.DataFrame({\n",
    "  'name' : ['karina'],\n",
    "  'class' : ['senior'],\n",
    "  'math_sc' : [80],\n",
    "  'eng_sc' : [100],\n",
    "  'avg_sc' : [90],\n",
    "  'mt_ov_eg' : [False]\n",
    "})\n",
    "\n",
    "# 데이터프레임 합치기\n",
    "stu = pd.concat([stu, new_row])\n",
    "\n",
    "# 추가 확인\n",
    "stu"
   ]
  },
  {
   "cell_type": "markdown",
   "id": "dfb78089-22da-4abb-b394-c8e2c0eed297",
   "metadata": {},
   "source": [
    "### **LEARN MORE : 중복 제외**"
   ]
  },
  {
   "cell_type": "code",
   "execution_count": null,
   "id": "39314bed-dd85-4879-a456-ac03cb029e8b",
   "metadata": {},
   "outputs": [],
   "source": [
    "# S03-18\n",
    "# class 열과 mt_ov_eg의 중복 제외 분류\n",
    "stu[['class', 'mt_ov_eg']].drop_duplicates()"
   ]
  },
  {
   "cell_type": "markdown",
   "id": "8591d6dc-ac28-48f9-a8ed-b5c1d17f3d52",
   "metadata": {},
   "source": [
    "### **LEARN MORE : 테이블 합치기**"
   ]
  },
  {
   "cell_type": "code",
   "execution_count": null,
   "id": "bfd39296-d015-44ae-991a-bfcb01fba45c",
   "metadata": {},
   "outputs": [],
   "source": [
    "# S03-19\n",
    "# 출생연도\n",
    "birth = pd.DataFrame({\n",
    "  'name' : ['karina', 'winter'],\n",
    "  'birth' : [2000, 2001]\n",
    "})\n",
    "\n",
    "# 합치기\n",
    "stu = stu.merge(birth, on = 'name')\n",
    "\n",
    "# 수정 확인\n",
    "stu"
   ]
  },
  {
   "cell_type": "markdown",
   "id": "5dafd29b-af32-40cd-8b08-736ba3b83f23",
   "metadata": {},
   "source": [
    "### **LEARN MORE : 데이터 전처리**"
   ]
  }
 ],
 "metadata": {
  "kernelspec": {
   "display_name": "Python 3 (ipykernel)",
   "language": "python",
   "name": "python3"
  },
  "language_info": {
   "codemirror_mode": {
    "name": "ipython",
    "version": 3
   },
   "file_extension": ".py",
   "mimetype": "text/x-python",
   "name": "python",
   "nbconvert_exporter": "python",
   "pygments_lexer": "ipython3",
   "version": "3.12.4"
  }
 },
 "nbformat": 4,
 "nbformat_minor": 5
}
